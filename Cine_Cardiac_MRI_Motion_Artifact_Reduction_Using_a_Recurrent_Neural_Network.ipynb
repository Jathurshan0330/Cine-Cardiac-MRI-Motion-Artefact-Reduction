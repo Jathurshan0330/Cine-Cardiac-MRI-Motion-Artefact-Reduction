{
  "nbformat": 4,
  "nbformat_minor": 0,
  "metadata": {
    "colab": {
      "name": "Cine Cardiac MRI Motion Artifact Reduction Using a Recurrent Neural Network.ipynb",
      "provenance": [],
      "collapsed_sections": [
        "VCcH-wxp66go",
        "AiB4_shN7KKy",
        "0DJCgswzgfDp",
        "oh742Z1H-P9R",
        "cMy5qcMdI8gK",
        "R8kI00FaJC-i"
      ],
      "include_colab_link": true
    },
    "kernelspec": {
      "name": "python3",
      "display_name": "Python 3"
    },
    "language_info": {
      "name": "python"
    },
    "accelerator": "GPU",
    "widgets": {
      "application/vnd.jupyter.widget-state+json": {
        "174a1e7cca834be98427237e3cf2760b": {
          "model_module": "@jupyter-widgets/controls",
          "model_name": "VBoxModel",
          "model_module_version": "1.5.0",
          "state": {
            "_view_name": "VBoxView",
            "_dom_classes": [
              "widget-interact"
            ],
            "_model_name": "VBoxModel",
            "_view_module": "@jupyter-widgets/controls",
            "_model_module_version": "1.5.0",
            "_view_count": null,
            "_view_module_version": "1.5.0",
            "box_style": "",
            "layout": "IPY_MODEL_600c2e7f655c42f19dc1fabe77a50de6",
            "_model_module": "@jupyter-widgets/controls",
            "children": [
              "IPY_MODEL_d156ed57858b4623893051ac18bc9757",
              "IPY_MODEL_57e48ea731f0409d9ec0f3afe9013058"
            ]
          }
        },
        "600c2e7f655c42f19dc1fabe77a50de6": {
          "model_module": "@jupyter-widgets/base",
          "model_name": "LayoutModel",
          "model_module_version": "1.2.0",
          "state": {
            "_view_name": "LayoutView",
            "grid_template_rows": null,
            "right": null,
            "justify_content": null,
            "_view_module": "@jupyter-widgets/base",
            "overflow": null,
            "_model_module_version": "1.2.0",
            "_view_count": null,
            "flex_flow": null,
            "width": null,
            "min_width": null,
            "border": null,
            "align_items": null,
            "bottom": null,
            "_model_module": "@jupyter-widgets/base",
            "top": null,
            "grid_column": null,
            "overflow_y": null,
            "overflow_x": null,
            "grid_auto_flow": null,
            "grid_area": null,
            "grid_template_columns": null,
            "flex": null,
            "_model_name": "LayoutModel",
            "justify_items": null,
            "grid_row": null,
            "max_height": null,
            "align_content": null,
            "visibility": null,
            "align_self": null,
            "height": null,
            "min_height": null,
            "padding": null,
            "grid_auto_rows": null,
            "grid_gap": null,
            "max_width": null,
            "order": null,
            "_view_module_version": "1.2.0",
            "grid_template_areas": null,
            "object_position": null,
            "object_fit": null,
            "grid_auto_columns": null,
            "margin": null,
            "display": null,
            "left": null
          }
        },
        "d156ed57858b4623893051ac18bc9757": {
          "model_module": "@jupyter-widgets/controls",
          "model_name": "IntSliderModel",
          "model_module_version": "1.5.0",
          "state": {
            "_view_name": "IntSliderView",
            "style": "IPY_MODEL_133c475b9fc840538f0daeab09e3ce6b",
            "_dom_classes": [],
            "description": "Select slice",
            "step": 1,
            "_model_name": "IntSliderModel",
            "orientation": "horizontal",
            "max": 0,
            "_view_module": "@jupyter-widgets/controls",
            "_model_module_version": "1.5.0",
            "value": 0,
            "_view_count": null,
            "disabled": false,
            "_view_module_version": "1.5.0",
            "min": 0,
            "continuous_update": true,
            "readout_format": "d",
            "description_tooltip": null,
            "readout": true,
            "_model_module": "@jupyter-widgets/controls",
            "layout": "IPY_MODEL_0b0df25bd4064941afe4c1ed40ba523b"
          }
        },
        "57e48ea731f0409d9ec0f3afe9013058": {
          "model_module": "@jupyter-widgets/output",
          "model_name": "OutputModel",
          "model_module_version": "1.0.0",
          "state": {
            "_view_name": "OutputView",
            "msg_id": "",
            "_dom_classes": [],
            "_model_name": "OutputModel",
            "outputs": [
              {
                "output_type": "display_data",
                "data": {
                  "text/html": "<video width=\"432\" height=\"288\" controls autoplay loop>\n  <source type=\"video/mp4\" src=\"data:video/mp4;base64,AAAAHGZ0eXBNNFYgAAACAGlzb21pc28yYXZjMQAAAAhmcmVlAAAnt21kYXQAAAKuBgX//6rcRem9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\nb28AAAAdZGF0YQAAAAEAAAAATGF2ZjU3LjgzLjEwMA==\n\">\n  Your browser does not support the video tag.\n</video>",
                  "text/plain": "<IPython.core.display.HTML object>"
                },
                "metadata": {}
              }
            ],
            "_view_module": "@jupyter-widgets/output",
            "_model_module_version": "1.0.0",
            "_view_count": null,
            "_view_module_version": "1.0.0",
            "layout": "IPY_MODEL_324b003e998b4c34967ba4ce7baaa431",
            "_model_module": "@jupyter-widgets/output"
          }
        },
        "133c475b9fc840538f0daeab09e3ce6b": {
          "model_module": "@jupyter-widgets/controls",
          "model_name": "SliderStyleModel",
          "model_module_version": "1.5.0",
          "state": {
            "_view_name": "StyleView",
            "handle_color": null,
            "_model_name": "SliderStyleModel",
            "description_width": "",
            "_view_module": "@jupyter-widgets/base",
            "_model_module_version": "1.5.0",
            "_view_count": null,
            "_view_module_version": "1.2.0",
            "_model_module": "@jupyter-widgets/controls"
          }
        },
        "0b0df25bd4064941afe4c1ed40ba523b": {
          "model_module": "@jupyter-widgets/base",
          "model_name": "LayoutModel",
          "model_module_version": "1.2.0",
          "state": {
            "_view_name": "LayoutView",
            "grid_template_rows": null,
            "right": null,
            "justify_content": null,
            "_view_module": "@jupyter-widgets/base",
            "overflow": null,
            "_model_module_version": "1.2.0",
            "_view_count": null,
            "flex_flow": null,
            "width": null,
            "min_width": null,
            "border": null,
            "align_items": null,
            "bottom": null,
            "_model_module": "@jupyter-widgets/base",
            "top": null,
            "grid_column": null,
            "overflow_y": null,
            "overflow_x": null,
            "grid_auto_flow": null,
            "grid_area": null,
            "grid_template_columns": null,
            "flex": null,
            "_model_name": "LayoutModel",
            "justify_items": null,
            "grid_row": null,
            "max_height": null,
            "align_content": null,
            "visibility": null,
            "align_self": null,
            "height": null,
            "min_height": null,
            "padding": null,
            "grid_auto_rows": null,
            "grid_gap": null,
            "max_width": null,
            "order": null,
            "_view_module_version": "1.2.0",
            "grid_template_areas": null,
            "object_position": null,
            "object_fit": null,
            "grid_auto_columns": null,
            "margin": null,
            "display": null,
            "left": null
          }
        },
        "324b003e998b4c34967ba4ce7baaa431": {
          "model_module": "@jupyter-widgets/base",
          "model_name": "LayoutModel",
          "model_module_version": "1.2.0",
          "state": {
            "_view_name": "LayoutView",
            "grid_template_rows": null,
            "right": null,
            "justify_content": null,
            "_view_module": "@jupyter-widgets/base",
            "overflow": null,
            "_model_module_version": "1.2.0",
            "_view_count": null,
            "flex_flow": null,
            "width": null,
            "min_width": null,
            "border": null,
            "align_items": null,
            "bottom": null,
            "_model_module": "@jupyter-widgets/base",
            "top": null,
            "grid_column": null,
            "overflow_y": null,
            "overflow_x": null,
            "grid_auto_flow": null,
            "grid_area": null,
            "grid_template_columns": null,
            "flex": null,
            "_model_name": "LayoutModel",
            "justify_items": null,
            "grid_row": null,
            "max_height": null,
            "align_content": null,
            "visibility": null,
            "align_self": null,
            "height": null,
            "min_height": null,
            "padding": null,
            "grid_auto_rows": null,
            "grid_gap": null,
            "max_width": null,
            "order": null,
            "_view_module_version": "1.2.0",
            "grid_template_areas": null,
            "object_position": null,
            "object_fit": null,
            "grid_auto_columns": null,
            "margin": null,
            "display": null,
            "left": null
          }
        },
        "802fca6e29b44c01a521d5ab3663555e": {
          "model_module": "@jupyter-widgets/controls",
          "model_name": "VBoxModel",
          "model_module_version": "1.5.0",
          "state": {
            "_view_name": "VBoxView",
            "_dom_classes": [
              "widget-interact"
            ],
            "_model_name": "VBoxModel",
            "_view_module": "@jupyter-widgets/controls",
            "_model_module_version": "1.5.0",
            "_view_count": null,
            "_view_module_version": "1.5.0",
            "box_style": "",
            "layout": "IPY_MODEL_011d55aa17c74ce4a736196c84c81600",
            "_model_module": "@jupyter-widgets/controls",
            "children": [
              "IPY_MODEL_f9625df8a1084901b625081cb9426455",
              "IPY_MODEL_9f598356d616477583474bc8633736ea"
            ]
          }
        },
        "011d55aa17c74ce4a736196c84c81600": {
          "model_module": "@jupyter-widgets/base",
          "model_name": "LayoutModel",
          "model_module_version": "1.2.0",
          "state": {
            "_view_name": "LayoutView",
            "grid_template_rows": null,
            "right": null,
            "justify_content": null,
            "_view_module": "@jupyter-widgets/base",
            "overflow": null,
            "_model_module_version": "1.2.0",
            "_view_count": null,
            "flex_flow": null,
            "width": null,
            "min_width": null,
            "border": null,
            "align_items": null,
            "bottom": null,
            "_model_module": "@jupyter-widgets/base",
            "top": null,
            "grid_column": null,
            "overflow_y": null,
            "overflow_x": null,
            "grid_auto_flow": null,
            "grid_area": null,
            "grid_template_columns": null,
            "flex": null,
            "_model_name": "LayoutModel",
            "justify_items": null,
            "grid_row": null,
            "max_height": null,
            "align_content": null,
            "visibility": null,
            "align_self": null,
            "height": null,
            "min_height": null,
            "padding": null,
            "grid_auto_rows": null,
            "grid_gap": null,
            "max_width": null,
            "order": null,
            "_view_module_version": "1.2.0",
            "grid_template_areas": null,
            "object_position": null,
            "object_fit": null,
            "grid_auto_columns": null,
            "margin": null,
            "display": null,
            "left": null
          }
        },
        "f9625df8a1084901b625081cb9426455": {
          "model_module": "@jupyter-widgets/controls",
          "model_name": "IntSliderModel",
          "model_module_version": "1.5.0",
          "state": {
            "_view_name": "IntSliderView",
            "style": "IPY_MODEL_017933290f674ff9876a419a58738687",
            "_dom_classes": [],
            "description": "Select slice",
            "step": 1,
            "_model_name": "IntSliderModel",
            "orientation": "horizontal",
            "max": 0,
            "_view_module": "@jupyter-widgets/controls",
            "_model_module_version": "1.5.0",
            "value": 0,
            "_view_count": null,
            "disabled": false,
            "_view_module_version": "1.5.0",
            "min": 0,
            "continuous_update": true,
            "readout_format": "d",
            "description_tooltip": null,
            "readout": true,
            "_model_module": "@jupyter-widgets/controls",
            "layout": "IPY_MODEL_22c1f1b8cf6447d0a19ed2416a7674a7"
          }
        },
        "9f598356d616477583474bc8633736ea": {
          "model_module": "@jupyter-widgets/output",
          "model_name": "OutputModel",
          "model_module_version": "1.0.0",
          "state": {
            "_view_name": "OutputView",
            "msg_id": "",
            "_dom_classes": [],
            "_model_name": "OutputModel",
            "outputs": [
              {
                "output_type": "display_data",
                "data": {
                  "text/html": "<video width=\"432\" height=\"288\" controls autoplay loop>\n  <source type=\"video/mp4\" src=\"data:video/mp4;base64,AAAAHGZ0eXBNNFYgAAACAGlzb21pc28yYXZjMQAAAAhmcmVlAAA+n21kYXQAAAKuBgX//6rcRem9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\nYXRhAAAAAQAAAABMYXZmNTcuODMuMTAw\n\">\n  Your browser does not support the video tag.\n</video>",
                  "text/plain": "<IPython.core.display.HTML object>"
                },
                "metadata": {}
              }
            ],
            "_view_module": "@jupyter-widgets/output",
            "_model_module_version": "1.0.0",
            "_view_count": null,
            "_view_module_version": "1.0.0",
            "layout": "IPY_MODEL_72653038e40744778680cd280039a8b9",
            "_model_module": "@jupyter-widgets/output"
          }
        },
        "017933290f674ff9876a419a58738687": {
          "model_module": "@jupyter-widgets/controls",
          "model_name": "SliderStyleModel",
          "model_module_version": "1.5.0",
          "state": {
            "_view_name": "StyleView",
            "handle_color": null,
            "_model_name": "SliderStyleModel",
            "description_width": "",
            "_view_module": "@jupyter-widgets/base",
            "_model_module_version": "1.5.0",
            "_view_count": null,
            "_view_module_version": "1.2.0",
            "_model_module": "@jupyter-widgets/controls"
          }
        },
        "22c1f1b8cf6447d0a19ed2416a7674a7": {
          "model_module": "@jupyter-widgets/base",
          "model_name": "LayoutModel",
          "model_module_version": "1.2.0",
          "state": {
            "_view_name": "LayoutView",
            "grid_template_rows": null,
            "right": null,
            "justify_content": null,
            "_view_module": "@jupyter-widgets/base",
            "overflow": null,
            "_model_module_version": "1.2.0",
            "_view_count": null,
            "flex_flow": null,
            "width": null,
            "min_width": null,
            "border": null,
            "align_items": null,
            "bottom": null,
            "_model_module": "@jupyter-widgets/base",
            "top": null,
            "grid_column": null,
            "overflow_y": null,
            "overflow_x": null,
            "grid_auto_flow": null,
            "grid_area": null,
            "grid_template_columns": null,
            "flex": null,
            "_model_name": "LayoutModel",
            "justify_items": null,
            "grid_row": null,
            "max_height": null,
            "align_content": null,
            "visibility": null,
            "align_self": null,
            "height": null,
            "min_height": null,
            "padding": null,
            "grid_auto_rows": null,
            "grid_gap": null,
            "max_width": null,
            "order": null,
            "_view_module_version": "1.2.0",
            "grid_template_areas": null,
            "object_position": null,
            "object_fit": null,
            "grid_auto_columns": null,
            "margin": null,
            "display": null,
            "left": null
          }
        },
        "72653038e40744778680cd280039a8b9": {
          "model_module": "@jupyter-widgets/base",
          "model_name": "LayoutModel",
          "model_module_version": "1.2.0",
          "state": {
            "_view_name": "LayoutView",
            "grid_template_rows": null,
            "right": null,
            "justify_content": null,
            "_view_module": "@jupyter-widgets/base",
            "overflow": null,
            "_model_module_version": "1.2.0",
            "_view_count": null,
            "flex_flow": null,
            "width": null,
            "min_width": null,
            "border": null,
            "align_items": null,
            "bottom": null,
            "_model_module": "@jupyter-widgets/base",
            "top": null,
            "grid_column": null,
            "overflow_y": null,
            "overflow_x": null,
            "grid_auto_flow": null,
            "grid_area": null,
            "grid_template_columns": null,
            "flex": null,
            "_model_name": "LayoutModel",
            "justify_items": null,
            "grid_row": null,
            "max_height": null,
            "align_content": null,
            "visibility": null,
            "align_self": null,
            "height": null,
            "min_height": null,
            "padding": null,
            "grid_auto_rows": null,
            "grid_gap": null,
            "max_width": null,
            "order": null,
            "_view_module_version": "1.2.0",
            "grid_template_areas": null,
            "object_position": null,
            "object_fit": null,
            "grid_auto_columns": null,
            "margin": null,
            "display": null,
            "left": null
          }
        }
      }
    }
  },
  "cells": [
    {
      "cell_type": "markdown",
      "metadata": {
        "id": "view-in-github",
        "colab_type": "text"
      },
      "source": [
        "<a href=\"https://colab.research.google.com/github/Jathurshan0330/Cine-Cardiac-MRI-Motion-Artefact-Reduction/blob/master/Cine_Cardiac_MRI_Motion_Artifact_Reduction_Using_a_Recurrent_Neural_Network.ipynb\" target=\"_parent\"><img src=\"https://colab.research.google.com/assets/colab-badge.svg\" alt=\"Open In Colab\"/></a>"
      ]
    },
    {
      "cell_type": "markdown",
      "source": [
        "#Get Requirements"
      ],
      "metadata": {
        "id": "VCcH-wxp66go"
      }
    },
    {
      "cell_type": "code",
      "source": [
        "!git clone https://github.com/Jathurshan0330/Cine-Cardiac-MRI-Motion-Artefact-Reduction.git"
      ],
      "metadata": {
        "id": "B2OLMpb75WWH",
        "colab": {
          "base_uri": "https://localhost:8080/"
        },
        "outputId": "9f8aba5e-e910-4eb2-c6c2-72641911e4b4"
      },
      "execution_count": 1,
      "outputs": [
        {
          "output_type": "stream",
          "name": "stdout",
          "text": [
            "fatal: destination path 'Cine-Cardiac-MRI-Motion-Artefact-Reduction' already exists and is not an empty directory.\n"
          ]
        }
      ]
    },
    {
      "cell_type": "code",
      "source": [
        "from google.colab import drive\n",
        "drive.mount('/content/drive')"
      ],
      "metadata": {
        "id": "rCF7gi5azumX",
        "colab": {
          "base_uri": "https://localhost:8080/"
        },
        "outputId": "8594849b-8622-4644-b12e-5fc3ae1ea99c"
      },
      "execution_count": 2,
      "outputs": [
        {
          "output_type": "stream",
          "name": "stdout",
          "text": [
            "Drive already mounted at /content/drive; to attempt to forcibly remount, call drive.mount(\"/content/drive\", force_remount=True).\n"
          ]
        }
      ]
    },
    {
      "cell_type": "code",
      "source": [
        "from IPython.display import clear_output"
      ],
      "metadata": {
        "id": "keHxsImI6pgB"
      },
      "execution_count": 3,
      "outputs": []
    },
    {
      "cell_type": "code",
      "source": [
        "!pip install medpy\n",
        "clear_output()"
      ],
      "metadata": {
        "id": "ZaAUiEkw51ZR"
      },
      "execution_count": 4,
      "outputs": []
    },
    {
      "cell_type": "code",
      "source": [
        "%cd /content/Cine-Cardiac-MRI-Motion-Artefact-Reduction\n",
        "import torch\n",
        "import os\n",
        "from glob import glob\n",
        "import time\n",
        "import re\n",
        "import argparse\n",
        "import nibabel as nib\n",
        "import pandas as pd\n",
        "from medpy.metric.binary import hd, dc\n",
        "import numpy as np\n",
        "from ipywidgets import interact, interactive, IntSlider, ToggleButtons\n",
        "import matplotlib.pyplot as plt\n",
        "%matplotlib inline\n",
        "import seaborn as sns\n",
        "import torch\n",
        "import torch.nn as nn\n",
        "sns.set_style('darkgrid')\n",
        "from seaborn.matrix import clustermap\n",
        "import h5py\n",
        "from matplotlib.patches import Rectangle\n",
        "from torch.utils.data import Dataset\n",
        "from torch.utils import data\n",
        "from torchvision import transforms, datasets\n",
        "from torchvision.transforms.transforms import ToTensor\n",
        "from torchvision import models\n",
        "from torch import autograd\n",
        "from matplotlib.animation import FuncAnimation\n",
        "from IPython import display\n",
        "\n",
        "from utils.metrics_acdc import load_nii\n",
        "from datasets.cine_dataset import read_h5py"
      ],
      "metadata": {
        "id": "VfRAzn9K0yLp",
        "colab": {
          "base_uri": "https://localhost:8080/"
        },
        "outputId": "85d03a12-8963-41ca-ecde-e48a12030ee6"
      },
      "execution_count": 5,
      "outputs": [
        {
          "output_type": "stream",
          "name": "stdout",
          "text": [
            "/content/Cine-Cardiac-MRI-Motion-Artefact-Reduction\n"
          ]
        }
      ]
    },
    {
      "cell_type": "markdown",
      "source": [
        "#Load and Visualize Data"
      ],
      "metadata": {
        "id": "AiB4_shN7KKy"
      }
    },
    {
      "cell_type": "code",
      "source": [
        "img_data_4d, affine_4d, header_4d = load_nii(\"/content/drive/MyDrive/Cine Cardiac/training/patient021/patient021_4d.nii.gz\")\n",
        "print(img_data_4d.shape, affine_4d.shape)"
      ],
      "metadata": {
        "id": "eswGZtMz6_Mj"
      },
      "execution_count": null,
      "outputs": []
    },
    {
      "cell_type": "code",
      "source": [
        "def interactive_gif(img, cmap = 'jet'):\n",
        "  \n",
        "  def Animate(slice):\n",
        "    Figure = plt.figure() \n",
        "    # creating a plot\n",
        "    # imgs_plotted = plt.imshow(img[:,:,0,slice], cmap = 'gray') \n",
        "    imgs_plotted = plt.imshow(img[:,:,slice,0], cmap = 'gray') \n",
        "    plt.axis(\"off\")\n",
        "\n",
        "    def AnimationFunction(frame):\n",
        "    \n",
        "        # setting y according to frame\n",
        "        # number and + x. It's logic\n",
        "        # y = img[:,:,frame,slice]\n",
        "        y = img[:,:,slice,frame]\n",
        "    \n",
        "        # line is set with new values of x and y\n",
        "        imgs_plotted.set_data(y)\n",
        "\n",
        "    # anim_created = FuncAnimation(Figure, AnimationFunction, frames=img.shape[2]-1, interval=200)\n",
        "    anim_created = FuncAnimation(Figure, AnimationFunction, frames=img.shape[-1]-1, interval=100)\n",
        "\n",
        "    video = anim_created.to_html5_video()\n",
        "    html = display.HTML(video)\n",
        "    display.display(html)\n",
        "  \n",
        "  # good practice to close the plt object.\n",
        "    plt.close()\n",
        "\n",
        "  # select_slice = IntSlider(min=0, max=img.shape[-1]-1, description='Select Phase', continuous_update=True)\n",
        "  select_slice = IntSlider(min=0, max=img.shape[2]-1, description='Select slice', continuous_update=True)\n",
        "\n",
        "  # select_phase = IntSlider(min=0, max=frame.shape[3]-1, description='Select Phase', continuous_update=True)\n",
        "\n",
        "  return interactive(Animate, slice=select_slice)#, phase = select_phase)\n",
        "interactive_gif(img_data_4d, cmap = 'gray')"
      ],
      "metadata": {
        "id": "ZrLDZ7YiE9AH"
      },
      "execution_count": null,
      "outputs": []
    },
    {
      "cell_type": "markdown",
      "source": [
        "# Data Analysis"
      ],
      "metadata": {
        "id": "0DJCgswzgfDp"
      }
    },
    {
      "cell_type": "code",
      "source": [
        "data_list = glob(\"/content/drive/MyDrive/Cine Cardiac/training/patient*/patient*_4d.nii.gz\")\n",
        "print(data_list)\n",
        "phase_list = []\n",
        "slice_list = []\n",
        "ignore = [\"/content/drive/MyDrive/Cine Cardiac/training/patient009/patient009_4d.nii.gz\",]\n",
        "\n",
        "for i in data_list:\n",
        "  if i in ignore:\n",
        "    phase_list.append(0)\n",
        "    slice_list.append(0)\n",
        "    continue\n",
        "  img_data_4d, affine_4d, header_4d = load_nii(i)\n",
        "  phase_list.append(img_data_4d.shape[-1])\n",
        "  slice_list.append(img_data_4d.shape[-2])\n",
        "\n",
        "\n",
        "print(phase_list)\n",
        "print(slice_list)\n"
      ],
      "metadata": {
        "id": "0K7MkbsjDu1Z"
      },
      "execution_count": null,
      "outputs": []
    },
    {
      "cell_type": "code",
      "source": [
        "#select scans with 30 phase\n",
        "select_list = []\n",
        "for i in range (len(phase_list)):\n",
        "  if phase_list[i] == 30:\n",
        "    select_list.append(data_list[i])\n",
        "print(select_list)\n",
        "print(len(select_list))"
      ],
      "metadata": {
        "id": "pzyQgdhVguqa"
      },
      "execution_count": null,
      "outputs": []
    },
    {
      "cell_type": "code",
      "source": [
        "## Separate into train and val\n",
        "train_list = select_list[:-7]\n",
        "val_list = select_list[-7:]\n",
        "print(len(train_list), len(val_list))"
      ],
      "metadata": {
        "id": "F17ST7gZnfU1"
      },
      "execution_count": null,
      "outputs": []
    },
    {
      "cell_type": "markdown",
      "source": [
        "### Create Training Data"
      ],
      "metadata": {
        "id": "oh742Z1H-P9R"
      }
    },
    {
      "cell_type": "code",
      "source": [
        "#Create Train Data\n",
        "img_no = 36\n",
        "index =  [110,120] #26 [60,130] #22 [80,160]  #18[80,60]  #11, 19, 24 [80,140]    #10 [80,120]   \n",
        "#7,20,21,23, 27 [90,130]   #3,6,17,25,28 [120,100]     #0-2, 4-5, 8- 10, 12-16, [100,130] \n",
        "print(train_list[img_no])\n",
        "img_data_4d, affine_4d, header_4d = load_nii(train_list[img_no])\n",
        "print(img_data_4d.shape)\n",
        "save_path = \"/content/drive/MyDrive/Cine Cardiac/train_data/\"\n",
        "\n",
        "for slice_no in range(img_data_4d.shape[-2]): \n",
        "  img_frames = img_data_4d[index[0]-50:index[0]+50,index[1]-50:index[1]+50,slice_no,:]\n",
        "  print(img_frames.shape,img_frames.min(),img_frames.max())\n",
        "\n",
        "  \n",
        "  plt.figure()\n",
        "  plt.imshow(img_data_4d[:,:,slice_no,14],cmap='gray')\n",
        "  # plt.gca().add_patch(Rectangle((index[0]-50,index[1]-50),100,100,linewidth=1,edgecolor='r',facecolor='none'))\n",
        "  plt.axis('off')\n",
        "  plt.show()\n",
        "\n",
        "  plt.figure()\n",
        "  plt.imshow(img_frames[:,:,14],cmap='gray')\n",
        "  plt.axis('off')\n",
        "  plt.show()\n",
        "\n",
        "  hf = h5py.File(save_path+f'train_{train_list[img_no][-13:-10]}_slice_{slice_no}.h5', 'w')\n",
        "  hf.create_dataset('train', data = img_frames)\n",
        "  hf.close()\n"
      ],
      "metadata": {
        "id": "PPk_bH3ntgXm"
      },
      "execution_count": null,
      "outputs": []
    },
    {
      "cell_type": "code",
      "source": [
        "h5_file = \"/content/drive/MyDrive/Cine Cardiac/train_data/train_076_slice_1.h5\"\n",
        "\n",
        "img_test = read_h5py(h5_file)\n",
        "print(len(img_test))\n",
        "img_test = np.reshape(img_test,(100,100,1,30))\n",
        "interactive_gif(img_test, cmap = 'gray')"
      ],
      "metadata": {
        "id": "VVUny3_x12zO"
      },
      "execution_count": null,
      "outputs": []
    },
    {
      "cell_type": "markdown",
      "source": [
        "### Create Validation Data"
      ],
      "metadata": {
        "id": "Os1cHcU2-YcF"
      }
    },
    {
      "cell_type": "code",
      "source": [
        "#Create Val Data\n",
        "\n",
        "img_no = 6\n",
        "index =  [100,140] #26 [60,130] #22 [80,160]  #18[80,60]  #11, 19, 24 [80,140]    #10 [80,120]   \n",
        "#7,20,21,23, 27 [90,130]   #3,6,17,25,28 [120,100]     #0-2, 4-5, 8- 10, 12-16, [100,130] \n",
        "print(val_list[img_no])\n",
        "img_data_4d, affine_4d, header_4d = load_nii(val_list[img_no])\n",
        "print(img_data_4d.shape)\n",
        "save_path = \"/content/drive/MyDrive/Cine Cardiac/val_data/\"\n",
        "\n",
        "for slice_no in range(img_data_4d.shape[-2]): \n",
        "  img_frames = img_data_4d[index[0]-50:index[0]+50,index[1]-50:index[1]+50,slice_no,:]\n",
        "  print(img_frames.shape,img_frames.min(),img_frames.max())\n",
        "\n",
        "  \n",
        "  plt.figure()\n",
        "  plt.imshow(img_data_4d[:,:,slice_no,14],cmap='gray')\n",
        "  # plt.gca().add_patch(Rectangle((index[0]-50,index[1]-50),100,100,linewidth=1,edgecolor='r',facecolor='none'))\n",
        "  plt.axis('off')\n",
        "  plt.show()\n",
        "\n",
        "  plt.figure()\n",
        "  plt.imshow(img_frames[:,:,14],cmap='gray')\n",
        "  plt.axis('off')\n",
        "  plt.show()\n",
        "\n",
        "  hf = h5py.File(save_path+f'val_{val_list[img_no][-13:-10]}_slice_{slice_no}.h5', 'w')\n",
        "  hf.create_dataset('val', data = img_frames)\n",
        "  hf.close()\n"
      ],
      "metadata": {
        "id": "p1PHM_XK-X0y"
      },
      "execution_count": null,
      "outputs": []
    },
    {
      "cell_type": "code",
      "source": [
        "h5_file = \"/content/drive/MyDrive/Cine Cardiac/val_data/val_097_slice_1.h5\"\n",
        "\n",
        "img_test = read_h5py(h5_file)\n",
        "img_test = np.reshape(img_test,(100,100,1,30))\n",
        "interactive_gif(img_test, cmap = 'gray')"
      ],
      "metadata": {
        "id": "ZWukr8uL-y-Z"
      },
      "execution_count": null,
      "outputs": []
    },
    {
      "cell_type": "markdown",
      "source": [
        "# Load Dataset Class"
      ],
      "metadata": {
        "id": "boVjRs-wsN9Q"
      }
    },
    {
      "cell_type": "markdown",
      "source": [
        "#### ACDC motion blurring\n"
      ],
      "metadata": {
        "id": "cMy5qcMdI8gK"
      }
    },
    {
      "cell_type": "code",
      "source": [
        "# img_data_4d, _,_ = load_nii(\"/content/drive/MyDrive/Cine Cardiac/training/patient021/patient021_4d.nii.gz\")\n",
        "# img = img_data_4d[:,:240,0,:]\n",
        "# # img = read_h5py(val_data[14])\n",
        "# img = (img - np.min(img))/(np.max(img) - np.min(img))\n",
        "# print(img.shape, np.max(img))\n",
        "# N = 7\n",
        "# start_ind = N\n",
        "# end_ind = 30-N\n",
        "# motion_artefact_added = []\n",
        "# eps = 10e-9\n",
        "\n",
        "# def calculate_2dft(input):\n",
        "#     ft = np.fft.fft2(input)\n",
        "#     return np.fft.fftshift(ft)\n",
        "# def calculate_2dift(input):\n",
        "#     ift = np.fft.ifftshift(input)\n",
        "#     ift = np.fft.ifft2(ift)\n",
        "#     return ift.real\n",
        "\n",
        "# fft_2d = calculate_2dft(img[:,:,7])\n",
        "# plt.figure()\n",
        "# plt.imshow(np.log(np.abs(fft_2d)),cmap = 'gray')\n",
        "# plt.colorbar()\n",
        "\n",
        "\n",
        "# ifft_img = calculate_2dift(fft_2d)\n",
        "# fig, ax = plt.subplots(1,3, figsize=(10,10))\n",
        "# ax[0].imshow(np.log(np.abs(fft_2d)),cmap = 'gray'), ax[0].axis('off')\n",
        "# ax[1].imshow(ifft_img,cmap = 'gray'), ax[1].axis('off')\n",
        "# ax[2].imshow(img[:,:,7],cmap = 'gray'), ax[2].axis('off')\n",
        "# plt.show()\n",
        "\n",
        "\n",
        "\n",
        "# for i in range(start_ind,end_ind):\n",
        "#   fft_mixed = calculate_2dft(img[:,:,i])#np.zeros(img[:,:,i].shape)\n",
        "#   fig, ax = plt.subplots(3,5, figsize=(20,10))\n",
        "#   for j in range(0,2*N+1): \n",
        "#     fft_2d = calculate_2dft(img[:,:,(i+j)-N])\n",
        "#     fft_mixed[:,j*16:(j+1)*16] = fft_2d[:,j*16:(j+1)*16]\n",
        "\n",
        "#     # if j<N:\n",
        "#     #     fft_mixed[:,j*14:(j+1)*14] = fft_2d[:,j*14:(j+1)*14]\n",
        "#     # elif j == N:\n",
        "#     #   fft_mixed[:,j*14: 240-N*14] = fft_2d[:,j*14: 240-N*14]\n",
        "#     # elif j>N:\n",
        "#     #   fft_mixed[:,142+(j-N-1)*14: 142+(j-N)*14] = fft_2d[:,142+(j-N-1)*14: 142+(j-N)*14]\n",
        "\n",
        "#     # print(fft_2d.shape)\n",
        "#     ax[j//5][j%5].imshow(img[:,:,(i+j)-N], cmap='gray'), ax[j//5][j%5].set_title(f'FFt 2D Frame {j}'),ax[j//5][j%5].axis('off')\n",
        "#   # plt.show()\n",
        "\n",
        "#   plt.figure()\n",
        "#   plt.imshow(np.log(np.abs(fft_mixed)+eps),cmap = 'gray',vmax = 8, vmin = -6)\n",
        "#   plt.axis('off')\n",
        "#   plt.colorbar()\n",
        "#   plt.show()\n",
        "\n",
        "#   # fft_mixed[0:25,:] = 0\n",
        "#   # fft_mixed[-25:,:] = 0\n",
        "#   # fft_mixed[:,0:25] = 0\n",
        "#   # fft_mixed[:,-25:] = 0\n",
        "\n",
        "#   plt.figure()\n",
        "#   plt.imshow(np.log(np.abs(fft_mixed)+eps),cmap = 'gray',vmax = 8, vmin = -6)\n",
        "#   plt.axis('off')\n",
        "#   plt.colorbar()\n",
        "#   plt.show()\n",
        "\n",
        "#   ma_img = calculate_2dift(fft_mixed)\n",
        "\n",
        "#   fig, ax = plt.subplots(1,2, figsize=(10,10))\n",
        "#   ax[0].imshow(img[:,:,i],cmap = 'gray'), ax[0].axis('off')\n",
        "#   ax[1].imshow(ma_img,cmap = 'gray'), ax[1].axis('off')\n",
        "#   plt.show()\n",
        "\n",
        "#   motion_artefact_added.append(ma_img)\n",
        "#   break\n",
        "\n",
        "# motion_artefact_added = np.reshape(np.array(motion_artefact_added),(1,end_ind - start_ind,100,100))\n",
        "\n",
        "\n",
        "# interactive_gif_data(motion_artefact_added, cmap = 'gray')\n",
        "\n",
        "\n",
        "\n",
        "# # fig, ax = plt.subplots(3,10, figsize=(30,10))\n",
        "# # for i in range(30):\n",
        "# #   ax[i//10][i%10].imshow(img[:,:,i], cmap='gray'), ax[i//10][i%10].set_title(f'Frame {i}'),ax[i//10][i%10].axis('off')\n"
      ],
      "metadata": {
        "id": "0UYWfrDtZFSB"
      },
      "execution_count": null,
      "outputs": []
    },
    {
      "cell_type": "markdown",
      "source": [
        "## Dataset"
      ],
      "metadata": {
        "id": "R8kI00FaJC-i"
      }
    },
    {
      "cell_type": "code",
      "source": [
        "def calculate_2dft(input):\n",
        "    ft = np.fft.fft2(input)\n",
        "    return np.fft.fftshift(ft)\n",
        "def calculate_2dift(input):\n",
        "    ift = np.fft.ifftshift(input)\n",
        "    ift = np.fft.ifft2(ift)\n",
        "    return ift.real\n",
        "\n",
        "def add_motion_artefacts(img):\n",
        "  N = 7\n",
        "  start_ind = N\n",
        "  end_ind = 30-N\n",
        "  motion_artefact_added = []\n",
        "  eps = 10e-11\n",
        "\n",
        "  for i in range(start_ind,end_ind):\n",
        "    fft_mixed = calculate_2dft(img[:,:,i])\n",
        "\n",
        "    # K-space mixing\n",
        "    for j in range(0,2*N+1): \n",
        "      fft_2d = calculate_2dft(img[:,:,(i+j)-N])\n",
        "      if j<N:\n",
        "        fft_mixed[:,j*6:(j+1)*6] = fft_2d[:,j*6:(j+1)*6]\n",
        "      elif j == N:\n",
        "        fft_mixed[:,j*6: 58] = fft_2d[:,j*6:58]\n",
        "      elif j>N:\n",
        "        fft_mixed[:,58+(j-N-1)*6: 58+(j-N)*6] = fft_2d[:,58+(j-N-1)*6: 58+(j-N)*6]\n",
        "\n",
        "    # Zero Padding\n",
        "    fft_mixed[0:25,:] = 0\n",
        "    fft_mixed[-25:,:] = 0\n",
        "    fft_mixed[:,0:25] = 0\n",
        "    fft_mixed[:,-25:] = 0\n",
        "\n",
        "    ma_img = calculate_2dift(fft_mixed)\n",
        "    motion_artefact_added.append(ma_img)\n",
        "\n",
        "  motion_artefact_added = np.array(motion_artefact_added)\n",
        "  return motion_artefact_added"
      ],
      "metadata": {
        "id": "LHxVrJzKujiD"
      },
      "execution_count": 6,
      "outputs": []
    },
    {
      "cell_type": "code",
      "source": [
        "class CineCardiac(Dataset):\n",
        "    def __init__(self, data_list, device,data_type = None,  transform=None, target_transform=None):\n",
        "        \n",
        "        first = True\n",
        "        for base in data_list:\n",
        "          if first:\n",
        "            self.img_data = np.reshape(read_h5py(base),(1,100,100,30))\n",
        "            first = False\n",
        "          else:\n",
        "            self.img_data = np.concatenate((self.img_data,np.reshape(read_h5py(base),(1,100,100,30))),axis = 0)\n",
        "\n",
        "        print(self.img_data.shape)    \n",
        "        self.device = device\n",
        "        self.transform = transform\n",
        "        self.target_transform = target_transform\n",
        "\n",
        "\n",
        "    def __len__(self):\n",
        "        return len(self.img_data)\n",
        "\n",
        "    def __getitem__(self, idx):\n",
        "      gt = (self.img_data[idx] - np.min(self.img_data[idx]))/(np.max(self.img_data[idx]) - np.min(self.img_data[idx])) #Normalizing to [0,1]\n",
        "      img = add_motion_artefacts(gt)\n",
        "      img = np.moveaxis(img,0,-1)\n",
        "      gt = gt[:,:,7:23]\n",
        "      img_inv = np.zeros((100,100,16))\n",
        "      for i in range(16):\n",
        "          img_inv[:,:,i] = img[:,:,15-i]\n",
        "      img = img[:,:,9-3:9+4]\n",
        "      img_inv = img_inv[:,:,9-3:9+4]\n",
        "      gt = gt[:,:,9-3:9+4]\n",
        "      # print(img.shape,gt.shape)\n",
        "      if self.transform:\n",
        "          img = self.transform(img).to(self.device)  \n",
        "          img_inv = self.transform(img_inv).to(self.device)  \n",
        "          gt  = self.transform(gt).to(self.device)  \n",
        "      return img, img_inv, gt"
      ],
      "metadata": {
        "id": "fzix9t9WpOlX"
      },
      "execution_count": 7,
      "outputs": []
    },
    {
      "cell_type": "code",
      "source": [
        "device = torch.device(\"cuda\" if torch.cuda.is_available() else \"cpu\")\n",
        "device"
      ],
      "metadata": {
        "id": "qDJ_acQFI4xo",
        "colab": {
          "base_uri": "https://localhost:8080/"
        },
        "outputId": "87b9f557-b373-47db-ffe4-891cf810e26a"
      },
      "execution_count": 8,
      "outputs": [
        {
          "output_type": "execute_result",
          "data": {
            "text/plain": [
              "device(type='cuda')"
            ]
          },
          "metadata": {},
          "execution_count": 8
        }
      ]
    },
    {
      "cell_type": "code",
      "source": [
        "#Cine Cardiac MRI Dataset\n",
        "train_data = glob(\"/content/drive/MyDrive/Cine Cardiac/train_data/train_*_slice_*.h5\")\n",
        "val_data = glob(\"/content/drive/MyDrive/Cine Cardiac/val_data/val_*_slice_*.h5\")\n",
        "print(train_data)\n",
        "print(val_data)\n",
        "\n",
        "\n",
        "cine_train = CineCardiac(data_list = train_data, \n",
        "                          device = device, \n",
        "                          transform=transforms.Compose([\n",
        "                          transforms.ToTensor(),\n",
        "                          ])) \n",
        "\n",
        "cine_val = CineCardiac(data_list = val_data, \n",
        "                          device = device, data_type = 'Val', \n",
        "                          transform=transforms.Compose([\n",
        "                          transforms.ToTensor(),\n",
        "                          ])) \n",
        "clear_output()"
      ],
      "metadata": {
        "id": "9qUE-NMxJETm"
      },
      "execution_count": 9,
      "outputs": []
    },
    {
      "cell_type": "code",
      "source": [
        "# Data loaders\n",
        "train_data_loader = data.DataLoader(cine_train, batch_size = 1, shuffle = True)\n",
        "val_data_loader = data.DataLoader(cine_val, batch_size = 1, shuffle = False)"
      ],
      "metadata": {
        "id": "5-u0fgTSJ-tE"
      },
      "execution_count": 10,
      "outputs": []
    },
    {
      "cell_type": "code",
      "source": [
        "def interactive_gif_data(img, cmap = 'gray'):\n",
        "  \n",
        "  def Animate(slice):\n",
        "    Figure = plt.figure() \n",
        "    # creating a plot\n",
        "    imgs_plotted = plt.imshow(img[slice,0,:,:], cmap = 'gray') \n",
        "    plt.axis(\"off\")\n",
        "\n",
        "    def AnimationFunction(frame):\n",
        "        y = img[slice,frame,:,:]\n",
        "    \n",
        "        # line is set with new values of x and y\n",
        "        imgs_plotted.set_data(y)\n",
        "\n",
        "    anim_created = FuncAnimation(Figure, AnimationFunction, frames=img.shape[1]-1, interval=100)\n",
        "\n",
        "    video = anim_created.to_html5_video()\n",
        "    html = display.HTML(video)\n",
        "    display.display(html)\n",
        "    # plt.show()\n",
        "  # good practice to close the plt object.\n",
        "    plt.close()\n",
        "\n",
        "  select_slice = IntSlider(min=0, max=img.shape[0]-1, description='Select slice', continuous_update=True)\n",
        "\n",
        "\n",
        "  return interactive(Animate, slice=select_slice)\n"
      ],
      "metadata": {
        "id": "T0__t-MSTLLD"
      },
      "execution_count": 11,
      "outputs": []
    },
    {
      "cell_type": "code",
      "source": [
        "img,img_inv, label   = next(iter(val_data_loader))\n",
        "print(img.shape,img_inv.shape, label.shape)\n",
        "\n",
        "ind = 0\n",
        "fig, ax = plt.subplots(1,3, figsize=(10,10))\n",
        "ax[0].imshow(img[ind,0,:,:].cpu(), cmap='gray'), ax[0].set_title('Motion Artefact Added Frame'),ax[0].axis(\"off\")\n",
        "ax[1].imshow(img_inv[ind,0,:,:].cpu(), cmap='gray'), ax[1].set_title('Reverse MA Frame'),ax[1].axis(\"off\")\n",
        "ax[2].imshow(label[ind,0,:,:].cpu(), cmap='gray'), ax[2].set_title('Ground truth Frame'),ax[2].axis(\"off\")\n",
        "plt.show()\n",
        "\n",
        "interactive_gif_data(img.cpu(), cmap = 'gray')\n"
      ],
      "metadata": {
        "id": "C2n6Dv3WKprH",
        "colab": {
          "base_uri": "https://localhost:8080/",
          "height": 0,
          "referenced_widgets": [
            "174a1e7cca834be98427237e3cf2760b",
            "600c2e7f655c42f19dc1fabe77a50de6",
            "d156ed57858b4623893051ac18bc9757",
            "57e48ea731f0409d9ec0f3afe9013058",
            "133c475b9fc840538f0daeab09e3ce6b",
            "0b0df25bd4064941afe4c1ed40ba523b",
            "324b003e998b4c34967ba4ce7baaa431"
          ]
        },
        "outputId": "396c292e-3f0a-4add-8d35-7c975301c420"
      },
      "execution_count": 12,
      "outputs": [
        {
          "output_type": "stream",
          "name": "stdout",
          "text": [
            "torch.Size([1, 7, 100, 100]) torch.Size([1, 7, 100, 100]) torch.Size([1, 7, 100, 100])\n"
          ]
        },
        {
          "output_type": "display_data",
          "data": {
            "image/png": "[encoded data removed]",
            "text/plain": [
              "<Figure size 720x720 with 3 Axes>"
            ]
          },
          "metadata": {}
        },
        {
          "output_type": "display_data",
          "data": {
            "application/vnd.jupyter.widget-view+json": {
              "model_id": "174a1e7cca834be98427237e3cf2760b",
              "version_minor": 0,
              "version_major": 2
            },
            "text/plain": [
              "interactive(children=(IntSlider(value=0, description='Select slice', max=0), Output()), _dom_classes=('widget-…"
            ]
          },
          "metadata": {}
        }
      ]
    },
    {
      "cell_type": "code",
      "source": [
        "interactive_gif_data(label.cpu(), cmap = 'gray')"
      ],
      "metadata": {
        "id": "wE6AZdNKKyNK",
        "colab": {
          "base_uri": "https://localhost:8080/",
          "height": 0,
          "referenced_widgets": [
            "802fca6e29b44c01a521d5ab3663555e",
            "011d55aa17c74ce4a736196c84c81600",
            "f9625df8a1084901b625081cb9426455",
            "9f598356d616477583474bc8633736ea",
            "017933290f674ff9876a419a58738687",
            "22c1f1b8cf6447d0a19ed2416a7674a7",
            "72653038e40744778680cd280039a8b9"
          ]
        },
        "outputId": "6121fdb2-5cfc-4d2b-fdee-bc865b52c41d"
      },
      "execution_count": 13,
      "outputs": [
        {
          "output_type": "display_data",
          "data": {
            "application/vnd.jupyter.widget-view+json": {
              "model_id": "802fca6e29b44c01a521d5ab3663555e",
              "version_minor": 0,
              "version_major": 2
            },
            "text/plain": [
              "interactive(children=(IntSlider(value=0, description='Select slice', max=0), Output()), _dom_classes=('widget-…"
            ]
          },
          "metadata": {}
        }
      ]
    },
    {
      "cell_type": "markdown",
      "source": [
        "# Recurrent Generative Adversarial Neural Network"
      ],
      "metadata": {
        "id": "9F9-uyOTJRIC"
      }
    },
    {
      "cell_type": "code",
      "source": [
        "class conv_block(nn.Module):\n",
        "    def __init__(self,ch_in,ch_out,kernel_size,padding = 1, bias = False):\n",
        "        super(conv_block,self).__init__()\n",
        "        self.conv = nn.Sequential(\n",
        "            nn.Conv2d(ch_in, ch_out, kernel_size=kernel_size,stride=1,padding=padding,bias=bias),\n",
        "            nn.ReLU()\n",
        "        )\n",
        "\n",
        "    def forward(self,x):\n",
        "        x = self.conv(x)\n",
        "        return x\n",
        "\n",
        "class convtranspose_block(nn.Module):\n",
        "    def __init__(self,ch_in,ch_out,kernel_size):\n",
        "        super(convtranspose_block,self).__init__()\n",
        "        self.convtrans = nn.Sequential(\n",
        "            nn.ConvTranspose2d(ch_in, ch_out, kernel_size=kernel_size,stride=1,padding=1,bias=False),\n",
        "            nn.ReLU()\n",
        "        )\n",
        "\n",
        "    def forward(self,x):\n",
        "        x = self.convtrans(x)\n",
        "        return x\n",
        "\n",
        "\n",
        "class multi_scale_conv(nn.Module):\n",
        "  def __init__(self,ch_in,ch_out):\n",
        "        super(multi_scale_conv,self).__init__()\n",
        "        self.conv3x3 = conv_block(ch_in = ch_in,ch_out = ch_out, kernel_size = 3, padding=1)\n",
        "        self.conv5x5 = conv_block(ch_in = ch_in,ch_out = ch_out, kernel_size = 5, padding=2)\n",
        "        self.conv7x7 = conv_block(ch_in = ch_in,ch_out = ch_out, kernel_size = 7, padding=3)\n",
        "        self.conv1x1 = conv_block(ch_in = ch_out*3,ch_out = ch_out, kernel_size = 1, padding = 0)\n",
        "\n",
        "  def forward(self,x):\n",
        "      x1 = self.conv3x3(x)\n",
        "      x2 = self.conv5x5(x)\n",
        "      x3 = self.conv7x7(x)\n",
        "      comb = torch.cat((x1, x2, x3), 1)\n",
        "      out = self.conv1x1(comb)\n",
        "      return out\n",
        "\n",
        "\n",
        "\n"
      ],
      "metadata": {
        "id": "puxSvQA3MlHF"
      },
      "execution_count": 14,
      "outputs": []
    },
    {
      "cell_type": "code",
      "source": [
        "##ConvLSTMS\n",
        "class ConvLSTMCell(nn.Module):\n",
        "  def __init__(self,ch_in,ch_hidden, kernel_size, bias):\n",
        "    super(ConvLSTMCell,self).__init__()\n",
        "\n",
        "    self.ch_in = ch_in\n",
        "    self.ch_hidden = ch_hidden\n",
        "    self.kernel_size = kernel_size\n",
        "    self.padding = 1\n",
        "    self.bias = bias\n",
        "\n",
        "    self.conv = nn.Conv2d(in_channels = self.ch_in + self.ch_hidden, out_channels = 4*self.ch_hidden,\n",
        "                          kernel_size = self.kernel_size, padding = self.padding, bias = self.bias)\n",
        "\n",
        "  def forward(self,x,current_state):\n",
        "    h_current, c_current = current_state\n",
        "\n",
        "    x1 = self.conv(torch.cat([x, h_current], dim=1))\n",
        "\n",
        "    cc_i, cc_f, cc_o, cc_g = torch.split(x1, self.ch_hidden, dim=1)\n",
        "    i = torch.sigmoid(cc_i)\n",
        "    f = torch.sigmoid(cc_f)\n",
        "    o = torch.sigmoid(cc_o)\n",
        "    g = torch.tanh(cc_g)\n",
        "\n",
        "    c_next = f * c_current + i * g\n",
        "    h_next = o * torch.tanh(c_next)\n",
        "\n",
        "    return h_next, c_next\n",
        "  \n",
        "  def init_hidden(self, batch_size, image_size):\n",
        "    height, width = image_size\n",
        "    return (torch.zeros(batch_size, self.ch_hidden, height, width, device=self.conv.weight.device),\n",
        "            torch.zeros(batch_size, self.ch_hidden, height, width, device=self.conv.weight.device))\n",
        "\n",
        "\n",
        "\n",
        "class ConvLSTM(nn.Module):\n",
        "  def __init__(self,ch_in,ch_hidden, kernel_size,num_layers, batch_first=False, bias=True, return_all_layers=False):\n",
        "    super(ConvLSTM,self).__init__()\n",
        "\n",
        "    kernel_size = self._extend_for_multilayer(kernel_size, num_layers)\n",
        "    ch_hidden = self._extend_for_multilayer(ch_hidden, num_layers)\n",
        "    if not len(kernel_size) == len(ch_hidden) == num_layers:\n",
        "        raise ValueError('Inconsistent list length.')\n",
        "\n",
        "    self.ch_in = ch_in\n",
        "    self.ch_hidden = ch_hidden\n",
        "    self.kernel_size = kernel_size\n",
        "    self.num_layers = num_layers\n",
        "    self.batch_first = batch_first\n",
        "    self.bias = bias\n",
        "    self.return_all_layers = return_all_layers\n",
        "\n",
        "    convlstmcell_list = []\n",
        "    for i in range(0, self.num_layers):\n",
        "        cur_input_dim = self.ch_in if i == 0 else self.ch_hidden[i - 1]\n",
        "\n",
        "        convlstmcell_list.append(ConvLSTMCell(ch_in=cur_input_dim,\n",
        "                                      ch_hidden=self.ch_hidden[i],\n",
        "                                      kernel_size=self.kernel_size[i],\n",
        "                                      bias=self.bias))\n",
        "\n",
        "    self.convlstmcell_list = nn.ModuleList(convlstmcell_list)\n",
        "\n",
        "  def forward(self, x, hidden_state=None):\n",
        "   \n",
        "    if not self.batch_first:\n",
        "        # (t, b, c, h, w) -> (b, t, c, h, w)\n",
        "        x = x.permute(1, 0, 2, 3, 4)\n",
        "\n",
        "    b, _, _, h, w = x.size()\n",
        "    # print(x.size())\n",
        "    # Implement stateful ConvLSTM\n",
        "    if hidden_state is not None:\n",
        "        raise NotImplementedError()\n",
        "    else:\n",
        "        # Since the init is done in forward. Can send image size here\n",
        "        hidden_state = self._init_hidden(batch_size=b,\n",
        "                                          image_size=(h, w))\n",
        "        \n",
        "\n",
        "    seq_len = x.size(1)\n",
        "    cur_layer_input = x\n",
        "\n",
        "    for layer_idx in range(self.num_layers):\n",
        "\n",
        "        h, c = hidden_state[layer_idx]\n",
        "        # print(h,c)\n",
        "        output_inner = []\n",
        "        for t in range(seq_len):\n",
        "            h, c = self.convlstmcell_list[layer_idx](x=cur_layer_input[:, t, :, :, :],\n",
        "                                              current_state=[h, c])\n",
        "            output_inner.append(h)\n",
        "\n",
        "        layer_output = torch.stack(output_inner, dim=1)\n",
        "        cur_layer_input = layer_output\n",
        "\n",
        "    return layer_output\n",
        "\n",
        "  def _init_hidden(self, batch_size, image_size):\n",
        "      init_states = []\n",
        "      for i in range(self.num_layers):\n",
        "          init_states.append(self.convlstmcell_list[i].init_hidden(batch_size, image_size))\n",
        "      return init_states\n",
        "\n",
        "  @staticmethod\n",
        "  def _extend_for_multilayer(param, num_layers):\n",
        "      if not isinstance(param, list):\n",
        "          param = [param] * num_layers\n",
        "      return param\n",
        "\n",
        "\n",
        "\n",
        "class ConvLSTM_block(nn.Module):\n",
        "  def __init__(self):\n",
        "        super(ConvLSTM_block,self).__init__()\n",
        "        self.convlstm1 = ConvLSTM(ch_in = 1, ch_hidden = 32, kernel_size = (3,3), num_layers = 1, batch_first = True, bias = True, return_all_layers = False)\n",
        "        self.relu1     = nn.ReLU()\n",
        "\n",
        "        self.convlstm2 = ConvLSTM(ch_in = 32, ch_hidden = 64, kernel_size = (3,3), num_layers = 1, batch_first = True, bias = True, return_all_layers = False)\n",
        "        self.relu2     = nn.ReLU()\n",
        "\n",
        "        self.convlstm3 = ConvLSTM(ch_in = 64, ch_hidden = 128, kernel_size = (3,3), num_layers = 1, batch_first = True, bias = True, return_all_layers = False)\n",
        "        self.relu3     = nn.ReLU()\n",
        "\n",
        "\n",
        "  def forward(self,x):\n",
        "      x = x.view(x.shape[0],x.shape[1],1,x.shape[2],x.shape[3])\n",
        "\n",
        "      out1 = self.convlstm1(x)\n",
        "      out1 = self.relu1(out1)\n",
        "\n",
        "      out2 = self.convlstm2(out1)\n",
        "      out2 = self.relu2(out2)\n",
        "\n",
        "      out3 = self.convlstm3(out2)\n",
        "      out3 = self.relu3(out3)\n",
        "      return out1, out2, out3\n"
      ],
      "metadata": {
        "id": "trLsmFNm3LEX"
      },
      "execution_count": 15,
      "outputs": []
    },
    {
      "cell_type": "code",
      "source": [
        "class encoder(nn.Module):\n",
        "    def __init__(self):\n",
        "        super(encoder,self).__init__()\n",
        "\n",
        "        # self.convlstm_forward = ConvLSTM_block()\n",
        "        # self.convlstm_backward = ConvLSTM_block()\n",
        "\n",
        "        self.multi_conv1 = multi_scale_conv(1,32)\n",
        "        self.conv1 = conv_block(ch_in = 32*3 ,ch_out = 32, kernel_size = 3, padding=1)\n",
        "\n",
        "        self.multi_conv2 = multi_scale_conv(32,64)\n",
        "        self.conv2 = conv_block(ch_in = 64*3 ,ch_out = 64, kernel_size = 3, padding=1)\n",
        "\n",
        "        self.multi_conv3 = multi_scale_conv(64,128)\n",
        "        self.conv3 = conv_block(ch_in = 128*3 ,ch_out = 128, kernel_size = 3, padding=1)\n",
        "\n",
        "        self.multi_conv4 = multi_scale_conv(128,256)\n",
        "\n",
        "    def forward(self,x, f1,f2,f3,b1,b2,b3):\n",
        "\n",
        "        # f1,f2,f3 = self.convlstm_forward(x) \n",
        "        # b1,b2,b3 = self.convlstm_backward(x_inv)\n",
        "        feature_maps = []\n",
        "\n",
        "        out1 = self.multi_conv1(x)\n",
        "        out1 = torch.cat((out1, f1, b1), 1)\n",
        "        out1 = self.conv1(out1)\n",
        "\n",
        "        out2 = self.multi_conv2(out1)\n",
        "        out2 = torch.cat((out2, f2, b2), 1)\n",
        "        out2 = self.conv2(out2)\n",
        "\n",
        "        out3 = self.multi_conv3(out2)\n",
        "        out3 = torch.cat((out3, f3, b3), 1)\n",
        "        out3 = self.conv3(out3)\n",
        "        \n",
        "        out4 = self.multi_conv4(out3)\n",
        "        return out1,out2,out3,out4\n",
        "\n",
        "\n",
        "\n",
        "class decoder(nn.Module):\n",
        "    def __init__(self):\n",
        "        super(decoder,self).__init__()\n",
        "\n",
        "        self.convtrans1 = convtranspose_block(ch_in = 256, ch_out = 128, kernel_size = 3)\n",
        "\n",
        "        self.convtrans2 = convtranspose_block(ch_in = 128*2, ch_out = 128, kernel_size = 3)\n",
        "        self.convtrans3 = convtranspose_block(ch_in = 128, ch_out = 64, kernel_size = 3)\n",
        "\n",
        "        self.convtrans4 = convtranspose_block(ch_in = 64*2, ch_out = 64, kernel_size = 3)\n",
        "        self.convtrans5 = convtranspose_block(ch_in = 64, ch_out = 32, kernel_size = 3)\n",
        "\n",
        "        self.convtrans6 = convtranspose_block(ch_in = 32*2, ch_out = 32, kernel_size = 3)\n",
        "        self.convtrans7 = convtranspose_block(ch_in = 32, ch_out = 1, kernel_size = 3)\n",
        "\n",
        "    def forward(self,in1,in2,in3,in4):\n",
        "        out1 = self.convtrans1(in4)\n",
        "\n",
        "        out2 = torch.cat((out1, in3), 1)\n",
        "        out2 = self.convtrans2(out2)\n",
        "        out2 = self.convtrans3(out2)\n",
        "        \n",
        "        out3 = torch.cat((out2, in2), 1)\n",
        "        out3 = self.convtrans4(out3)\n",
        "        out3 = self.convtrans5(out3)\n",
        "\n",
        "        out4 = torch.cat((out3, in1), 1)\n",
        "        out4 = self.convtrans6(out4)\n",
        "        out4 = self.convtrans7(out4)\n",
        "\n",
        "        return out4\n",
        "\n",
        "\n",
        "class Generator(nn.Module):\n",
        "    def __init__(self):\n",
        "        super(Generator,self).__init__()\n",
        "\n",
        "        self.encoder = encoder()\n",
        "        self.decoder = decoder()\n",
        "\n",
        "    def forward(self,x,f1,f2,f3,b1,b2,b3):\n",
        "        out1,out2,out3,out4 = self.encoder(x,f1,f2,f3,b1,b2,b3)\n",
        "        out = self.decoder(out1,out2,out3,out4)\n",
        "\n",
        "        return out"
      ],
      "metadata": {
        "id": "lJvbJMH7Xg78"
      },
      "execution_count": 16,
      "outputs": []
    },
    {
      "cell_type": "code",
      "source": [
        "#Discriminator\n",
        "\n",
        "class Discriminator(nn.Module):\n",
        "    def __init__(self):\n",
        "        super(Discriminator, self).__init__()\n",
        "        self.conv1_1 = conv_block(ch_in = 1 ,ch_out = 64, kernel_size = 3, padding=1, bias = True)\n",
        "        self.conv1_2 = conv_block(ch_in = 64 ,ch_out = 64, kernel_size = 3, padding=1, bias = True)\n",
        "        self.maxpool1 = nn.MaxPool2d(2,2)\n",
        "\n",
        "        self.conv2_1 = conv_block(ch_in = 64 ,ch_out = 128, kernel_size = 3, padding=1, bias = True)\n",
        "        self.conv2_2 = conv_block(ch_in = 128 ,ch_out = 128, kernel_size = 3, padding=1, bias = True)\n",
        "        self.maxpool2 = nn.MaxPool2d(2,2)\n",
        "\n",
        "        self.conv3_1 = conv_block(ch_in = 128,ch_out = 256, kernel_size = 3, padding=1, bias = True)\n",
        "        self.conv3_2 = conv_block(ch_in = 256 ,ch_out = 256, kernel_size = 3, padding=1, bias = True)\n",
        "        self.maxpool3 = nn.MaxPool2d(2,2)\n",
        "\n",
        "        self.fc1   = nn.Linear(12*12*256, 1024)\n",
        "        self.relu1 = nn.ReLU(True)\n",
        "        self.fc2   = nn.Linear(1024,1)\n",
        "        self.relu2 = nn.ReLU(True)\n",
        "\n",
        "    def forward(self, x):\n",
        "        out1 = self.conv1_1 (x)\n",
        "        out1 = self.conv1_2 (out1)\n",
        "        out1 = self.maxpool1(out1)\n",
        "\n",
        "        out2 = self.conv2_1 (out1)\n",
        "        out2 = self.conv2_2 (out2)\n",
        "        out2 = self.maxpool2(out2)\n",
        "\n",
        "        out3 = self.conv3_1 (out2)\n",
        "        out3 = self.conv3_2 (out3)\n",
        "        out3 = self.maxpool3(out3)\n",
        "\n",
        "        # print(out3.shape)\n",
        "        out3 = out3.view(-1, 12*12*256)\n",
        "        out = self.fc1(out3)\n",
        "        out = self.relu1(out)\n",
        "        out = self.fc2(out)\n",
        "        out = self.relu2(out)\n",
        "        \n",
        "        return out"
      ],
      "metadata": {
        "id": "hO0HDDjYBIRt"
      },
      "execution_count": 17,
      "outputs": []
    },
    {
      "cell_type": "code",
      "source": [
        "# Vgg16 for perception loss\n",
        "#help https://github.com/pytorch/examples\n",
        "\n",
        "class Vgg16(torch.nn.Module):\n",
        "    def __init__(self, requires_grad=False):\n",
        "        super(Vgg16, self).__init__()\n",
        "        vgg_pretrained_features = models.vgg16(pretrained=True).features\n",
        "        self.slice1 = torch.nn.Sequential()\n",
        "        self.slice2 = torch.nn.Sequential()\n",
        "        self.slice3 = torch.nn.Sequential()\n",
        "        self.slice4 = torch.nn.Sequential()\n",
        "        for x in range(4):\n",
        "            self.slice1.add_module(str(x), vgg_pretrained_features[x])\n",
        "        for x in range(4, 9):\n",
        "            self.slice2.add_module(str(x), vgg_pretrained_features[x])\n",
        "        for x in range(9, 16):\n",
        "            self.slice3.add_module(str(x), vgg_pretrained_features[x])\n",
        "        for x in range(16, 23):\n",
        "            self.slice4.add_module(str(x), vgg_pretrained_features[x])\n",
        "        if not requires_grad:\n",
        "            for param in self.parameters():\n",
        "                param.requires_grad = False\n",
        "\n",
        "    def forward(self, X):\n",
        "        h = self.slice1(X)\n",
        "        h_relu1_2 = h\n",
        "        h = self.slice2(h)\n",
        "        h_relu2_2 = h\n",
        "        h = self.slice3(h)\n",
        "        h_relu3_3 = h\n",
        "        h = self.slice4(h)\n",
        "        h_relu4_3 = h\n",
        "        # vgg_outputs = namedtuple(\"VggOutputs\", ['relu1_2', 'relu2_2', 'relu3_3', 'relu4_3'])\n",
        "        # out = vgg_outputs(h_relu1_2, h_relu2_2, h_relu3_3, h_relu4_3)\n",
        "        return [h_relu1_2, h_relu2_2, h_relu3_3, h_relu4_3]\n",
        "\n",
        "\n",
        "def gradient_penalty(netD, real, fake):\n",
        "    c,s,h,w = real.shape\n",
        "    alpha = torch.rand(c, s, h, w)\n",
        "    alpha = alpha.expand(real.size())\n",
        "    alpha = alpha.to(device) if torch.cuda.is_available() else alpha\n",
        "\n",
        "    interpolates = alpha * real + ((1 - alpha) * fake)\n",
        "\n",
        "    interpolates = interpolates.to(device)\n",
        "    interpolates = autograd.Variable(interpolates, requires_grad=True)\n",
        "\n",
        "    disc_interpolates = netD(interpolates)\n",
        "\n",
        "    gradients = autograd.grad(outputs=disc_interpolates, inputs=interpolates,\n",
        "                              grad_outputs=torch.ones(disc_interpolates.size()).to(device) if torch.cuda.is_available() else torch.ones(\n",
        "                                  disc_interpolates.size()),\n",
        "                              create_graph=True, retain_graph=True, only_inputs=True)[0]\n",
        "    gradients = gradients.view(gradients.size(0), -1)\n",
        "\n",
        "    gradient_penalty = ((gradients.norm(2, dim=1) - 1) ** 2).mean()\n",
        "    return gradient_penalty"
      ],
      "metadata": {
        "id": "J_oHhBjkY5kW"
      },
      "execution_count": 18,
      "outputs": []
    },
    {
      "cell_type": "markdown",
      "source": [
        "# Model Training"
      ],
      "metadata": {
        "id": "-068ghb_-zEH"
      }
    },
    {
      "cell_type": "code",
      "source": [
        "class AverageMeter(object):\n",
        "    \"\"\"Computes and stores the average and current value\"\"\"\n",
        "    def __init__(self):\n",
        "        self.reset()\n",
        "\n",
        "    def reset(self):\n",
        "        self.val = 0\n",
        "        self.avg = 0\n",
        "        self.sum = 0\n",
        "        self.count = 0\n",
        "\n",
        "    def update(self, val, n=1):\n",
        "        self.val = val\n",
        "        self.sum += val * n\n",
        "        self.count += n\n",
        "        self.avg = self.sum / self.count if self.count != 0 else 0"
      ],
      "metadata": {
        "id": "tTc0XCKk_9Pl"
      },
      "execution_count": 19,
      "outputs": []
    },
    {
      "cell_type": "code",
      "source": [
        "convlstm_forward = ConvLSTM_block().to(device)\n",
        "convlstm_backward = ConvLSTM_block().to(device)\n",
        "gen = Generator().to(device)\n",
        "disc = Discriminator().to(device)\n",
        "vgg =  Vgg16().to(device)\n",
        "\n",
        "adv_loss = nn.BCELoss()\n",
        "mse_loss = nn.MSELoss()\n",
        "\n",
        "lr = 1e-4\n",
        "beta_1 = 0.5 \n",
        "beta_2 = 0.999\n",
        "n_epochs = 50\n",
        "\n",
        "for_convlstm_optimizer =  torch.optim.Adam(convlstm_forward.parameters(), lr=lr, betas=(beta_1, beta_2))\n",
        "back_convlstm_optimizer =  torch.optim.Adam(convlstm_backward.parameters(), lr=lr, betas=(beta_1, beta_2))\n",
        "gen_optimizer =  torch.optim.Adam(gen.parameters(), lr=lr, betas=(beta_1, beta_2))\n",
        "disc_optimizer =  torch.optim.Adam(disc.parameters(), lr=lr, betas=(beta_1, beta_2))\n",
        "\n",
        "img,img_inv, label   = next(iter(val_data_loader))\n",
        "print(img.shape,img_inv.shape, label.shape)\n",
        "# img = torch.reshape(img,(img.shape[0],img.shape[1],1,img.shape[2],img.shape[3]))\n",
        "# img_inv = torch.reshape(img_inv,(img.shape[0],7,1,100,100))\n",
        "print(img.shape,img_inv.shape, label.shape)\n",
        "\n",
        "\n",
        "sides = []\n",
        "f1,f2,f3 = convlstm_forward(img.float()) \n",
        "b1,b2,b3 = convlstm_backward(img_inv.float())\n",
        "\n",
        "print(f1.shape,f2.shape,f3.shape)\n",
        "print(b1.shape,b2.shape,b3.shape)\n",
        "\n",
        "\n",
        "for i in range (7):\n",
        "  out_img = gen(img[:,i,:,:].view(img.shape[0],1,100,100).float(),f1[:,i,:,:,:], f2[:,i,:,:,:], f3[:,i,:,:,:],\n",
        "                b1[:,i,:,:,:], b2[:,i,:,:,:], b3[:,i,:,:,:])\n",
        "  pred_disc = disc(out_img)\n",
        "  sides.append(out_img)\n",
        "  print(out_img.shape, pred_disc.shape)\n",
        "\n",
        "\n",
        "print(len(sides),sides[0].shape)"
      ],
      "metadata": {
        "id": "HONXBAk9Y49K",
        "colab": {
          "base_uri": "https://localhost:8080/"
        },
        "outputId": "640eb69d-ef13-44cd-af29-82c2b97d0d20"
      },
      "execution_count": 20,
      "outputs": [
        {
          "output_type": "stream",
          "name": "stdout",
          "text": [
            "torch.Size([1, 7, 100, 100]) torch.Size([1, 7, 100, 100]) torch.Size([1, 7, 100, 100])\n",
            "torch.Size([1, 7, 100, 100]) torch.Size([1, 7, 100, 100]) torch.Size([1, 7, 100, 100])\n",
            "torch.Size([1, 7, 32, 100, 100]) torch.Size([1, 7, 64, 100, 100]) torch.Size([1, 7, 128, 100, 100])\n",
            "torch.Size([1, 7, 32, 100, 100]) torch.Size([1, 7, 64, 100, 100]) torch.Size([1, 7, 128, 100, 100])\n",
            "torch.Size([1, 1, 100, 100]) torch.Size([1, 1])\n",
            "torch.Size([1, 1, 100, 100]) torch.Size([1, 1])\n",
            "torch.Size([1, 1, 100, 100]) torch.Size([1, 1])\n",
            "torch.Size([1, 1, 100, 100]) torch.Size([1, 1])\n",
            "torch.Size([1, 1, 100, 100]) torch.Size([1, 1])\n",
            "torch.Size([1, 1, 100, 100]) torch.Size([1, 1])\n",
            "torch.Size([1, 1, 100, 100]) torch.Size([1, 1])\n",
            "7 torch.Size([1, 1, 100, 100])\n"
          ]
        }
      ]
    },
    {
      "cell_type": "code",
      "source": [
        "#Initialize the weights to the normal distribution\n",
        "# with mean 0 and standard deviation 0.02\n",
        "def weights_init(m):\n",
        "    if isinstance(m, nn.Conv2d) or isinstance(m, nn.ConvTranspose2d):\n",
        "        torch.nn.init.normal_(m.weight, 0.0, 0.02)\n",
        "    if isinstance(m, nn.BatchNorm2d):\n",
        "        torch.nn.init.normal_(m.weight, 0.0, 0.02)\n",
        "        torch.nn.init.constant_(m.bias, 0)\n",
        "\n",
        "def img_net_normalize(x):\n",
        "    return torch.cat(((x-0.485)/0.229, (x-0.456)/0.224, (x-0.406)/0.225), 1)\n",
        "gen = gen.apply(weights_init)\n",
        "disc = disc.apply(weights_init)"
      ],
      "metadata": {
        "id": "8osNNzGpD1G3"
      },
      "execution_count": 24,
      "outputs": []
    },
    {
      "cell_type": "markdown",
      "source": [
        "## Training "
      ],
      "metadata": {
        "id": "nOFzie6FYcgN"
      }
    },
    {
      "cell_type": "markdown",
      "source": [
        "### Neptune"
      ],
      "metadata": {
        "id": "_qoQo7_bY5p6"
      }
    },
    {
      "cell_type": "code",
      "source": [
        "!pip install neptune-client\n",
        "clear_output()"
      ],
      "metadata": {
        "id": "mBNo0PXhZQn1"
      },
      "execution_count": 22,
      "outputs": []
    },
    {
      "cell_type": "code",
      "source": [
        "import neptune.new as neptune\n",
        "\n",
        "# run = neptune.init(\n",
        "#     project=\"jathurshan0330/Cine-Cardiac\",\n",
        "#     api_token=\"eyJhcGlfYWRkcmVzcyI6Imh0dHBzOi8vYXBwLm5lcHR1bmUuYWkiLCJhcGlfdXJsIjoiaHR0cHM6Ly9hcHAubmVwdHVuZS5haSIsImFwaV9rZXkiOiJmYmRmNjE0Zi0xMDRkLTRlNzUtYmIxNi03NzM2ODBlZDc5NTMifQ==\",\n",
        "# )  # your credentials\n"
      ],
      "metadata": {
        "id": "hXa_Td9IY5Ir"
      },
      "execution_count": null,
      "outputs": []
    },
    {
      "cell_type": "code",
      "source": [
        "parameters = {\n",
        "    \"Experiment\": \"Recurrent Generative Adversarial Based Network\",\n",
        "    'Batch Size': 1,\n",
        "    'Loss': \"Adversarial loss + Perception Loss\",\n",
        "    'Optimizer' : \"Adam\",\n",
        "    'Learning Rate': lr,\n",
        "    'Beta 1': beta_1,\n",
        "    'Beta 2': beta_2,\n",
        "    'n_epochs': n_epochs\n",
        "}\n",
        "run['model/parameters'] = parameters\n",
        "run['model/ConvLSTM'] = convlstm_forward\n",
        "run['model/Generator'] = gen\n",
        "run['model/Discriminator'] = disc\n"
      ],
      "metadata": {
        "id": "kbWgrYuhZiE9"
      },
      "execution_count": null,
      "outputs": []
    },
    {
      "cell_type": "markdown",
      "source": [
        "### Train"
      ],
      "metadata": {
        "id": "usttRw_eY9Dq"
      }
    },
    {
      "cell_type": "code",
      "source": [
        "from torchvision.utils import make_grid\n",
        "from skimage.metrics import structural_similarity as ssim\n",
        "from skimage.metrics import peak_signal_noise_ratio as psnr\n",
        "import time\n",
        "\n",
        "vgg.eval()\n",
        "num_frames = 7\n",
        "lambda_percep = 0.1 \n",
        "save_model_freq = 10\n",
        "val_best_loss = 10000000\n",
        "val_best_psnr = 10\n",
        "\n",
        "for epoch_idx in range(0,n_epochs):\n",
        "  print(f\"Training Epoch : [{epoch_idx+1}/{n_epochs}]===============================================================================\")\n",
        "  convlstm_forward.train()\n",
        "  convlstm_backward.train()\n",
        "  gen.train()\n",
        "  disc.train()\n",
        "\n",
        "  batch_time = AverageMeter()\n",
        "  data_time = AverageMeter()\n",
        "  #Total loss\n",
        "  train_total_gen_losses = AverageMeter()\n",
        "  train_total_disc_losses = AverageMeter()\n",
        "  #Adversarial Loss\n",
        "  train_adv_losses = AverageMeter()\n",
        "  #Perceptual loss\n",
        "  train_percep_losses = AverageMeter()\n",
        "  val_percep_losses = AverageMeter()\n",
        "  \n",
        "  PSNR_val = AverageMeter()\n",
        "  SSIM_val = AverageMeter()\n",
        "  end = time.time()\n",
        "  \n",
        "  for batch_idx, data_input in enumerate(train_data_loader):\n",
        "    data_time.update(time.time() - end)\n",
        "    train_img = data_input[0].to(device) \n",
        "    inv_train_img = data_input[1].to(device) \n",
        "    gt_img = data_input[2].to(device)\n",
        "\n",
        "    disc_optimizer.zero_grad()\n",
        "    gen_optimizer.zero_grad()\n",
        "    for_convlstm_optimizer.zero_grad()\n",
        "    back_convlstm_optimizer.zero_grad()\n",
        "\n",
        "    ########### Update Generator ###########\n",
        "    for p in disc.parameters():\n",
        "      p.requires_grad = False\n",
        "    \n",
        "    \n",
        "    #ConvLSTMs (Forward and Backward)\n",
        "    f1_train,f2_train,f3_train = convlstm_forward(train_img.float()) \n",
        "    b1_train,b2_train,b3_train = convlstm_backward(inv_train_img.float())\n",
        "\n",
        "    # gen_frames = []\n",
        "    adver_loss = 0\n",
        "    percep_loss = 0\n",
        "    for k in range (num_frames):\n",
        "      gen_img = gen(train_img[:,k,:,:].view(train_img.shape[0],1,100,100).float(),f1_train[:,k,:,:,:], f2_train[:,k,:,:,:], f3_train[:,k,:,:,:],\n",
        "                    b1_train[:,k,:,:,:], b2_train[:,k,:,:,:], b3_train[:,k,:,:,:])\n",
        "      disc_fake = disc(gen_img)\n",
        "      \n",
        "      #Adversarial Loss\n",
        "      adver_loss += -disc_fake.mean()/num_frames  \n",
        "\n",
        "      gen_features = vgg(img_net_normalize(gen_img))\n",
        "      gt_features = vgg(img_net_normalize(gt_img[:,k,:,:,:].view(gt_img.shape[0],1,100,100).float()))\n",
        "      \n",
        "      #Perceptual loss\n",
        "      for f_map in range(4):  \n",
        "        percep_loss += 0.25 * mse_loss(gen_features[f_map], gt_features[f_map]) / num_frames\n",
        "\n",
        "      # gen_frames.append(gen_img)\n",
        "      print(out_img.shape, pred_disc.shape)\n",
        "    \n",
        "    #Generator Loss\n",
        "    gen_loss = adver_loss + lambda_percep*percep_loss\n",
        "    \n",
        "    gen_loss.backward()\n",
        "\n",
        "    # Update Generator\n",
        "    gen_optimizer.step()\n",
        "    for_convlstm_optimizer.step()\n",
        "    back_convlstm_optimizer.step()\n",
        "\n",
        "    ########### Update Discriminator ###########\n",
        "\n",
        "    \n"
      ],
      "metadata": {
        "id": "OtpG-puqNOLU"
      },
      "execution_count": null,
      "outputs": []
    },
    {
      "cell_type": "code",
      "source": [
        ""
      ],
      "metadata": {
        "id": "t4DT2qpJX8zK"
      },
      "execution_count": null,
      "outputs": []
    }
  ]
}